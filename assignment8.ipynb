{
 "cells": [
  {
   "cell_type": "markdown",
   "id": "01edefdd-e9c4-4b8b-a4af-c03c33ed7ae7",
   "metadata": {},
   "source": [
    "Q1. What is an Exception in python? Write the difference between Exception and syntax errors."
   ]
  },
  {
   "cell_type": "markdown",
   "id": "e1de2293-7df3-4d38-9a2e-e10ec03bae9f",
   "metadata": {},
   "source": [
    "In Python, an exception is an event that occurs during the execution of a program that disrupts the normal flow of instructions. When an exceptional condition arises, the program's execution is halted, and the Python interpreter raises an exception object. This object contains information about the type of exception that occurred, as well as any additional details that might be helpful in handling the exception."
   ]
  },
  {
   "cell_type": "markdown",
   "id": "8eba0c9b-22a5-4c5d-b67c-6c1c3d3e7f94",
   "metadata": {},
   "source": [
    "Detection: Syntax errors are detected by the Python interpreter during the parsing phase, before the program starts executing. Exceptions, on the other hand, are raised during runtime when an unexpected condition occurs.\n",
    "\n",
    "Execution: Syntax errors prevent the program from running at all since they violate the language's syntax rules. Exceptions, however, can be caught and handled, allowing the program to continue executing.\n",
    "\n",
    "Handling: Syntax errors require fixing the code itself, resolving the syntax violation. Exceptions, on the other hand, can be handled using try-except blocks, where specific code is written to handle different types of exceptions. This enables developers to anticipate and handle exceptional conditions gracefully"
   ]
  },
  {
   "cell_type": "markdown",
   "id": "955b9709-3da6-4205-a013-2b82c4f8b3ce",
   "metadata": {},
   "source": [
    "Q2. What hppens when an exception is not handled? Explin with an example."
   ]
  },
  {
   "cell_type": "markdown",
   "id": "5f556630-ecb1-4246-bcb7-d1191f925b8a",
   "metadata": {},
   "source": [
    "When an exception is not handled in a program, it leads to the termination of the program's execution and an error message is displayed to the user. This error message provides information about the type of exception that occurred and the corresponding traceback, which shows the sequence of function calls that led to the exception"
   ]
  },
  {
   "cell_type": "code",
   "execution_count": 1,
   "id": "872ec179-dd92-4071-beb8-3963e0e783c2",
   "metadata": {},
   "outputs": [
    {
     "name": "stdin",
     "output_type": "stream",
     "text": [
      "Enter the first number:  10\n",
      "Enter the second number:  0\n"
     ]
    },
    {
     "ename": "ZeroDivisionError",
     "evalue": "float division by zero",
     "output_type": "error",
     "traceback": [
      "\u001b[0;31m---------------------------------------------------------------------------\u001b[0m",
      "\u001b[0;31mZeroDivisionError\u001b[0m                         Traceback (most recent call last)",
      "Cell \u001b[0;32mIn[1], line 8\u001b[0m\n\u001b[1;32m      5\u001b[0m num1 \u001b[38;5;241m=\u001b[39m \u001b[38;5;28mfloat\u001b[39m(\u001b[38;5;28minput\u001b[39m(\u001b[38;5;124m\"\u001b[39m\u001b[38;5;124mEnter the first number: \u001b[39m\u001b[38;5;124m\"\u001b[39m))\n\u001b[1;32m      6\u001b[0m num2 \u001b[38;5;241m=\u001b[39m \u001b[38;5;28mfloat\u001b[39m(\u001b[38;5;28minput\u001b[39m(\u001b[38;5;124m\"\u001b[39m\u001b[38;5;124mEnter the second number: \u001b[39m\u001b[38;5;124m\"\u001b[39m))\n\u001b[0;32m----> 8\u001b[0m result \u001b[38;5;241m=\u001b[39m \u001b[43mdivide_numbers\u001b[49m\u001b[43m(\u001b[49m\u001b[43mnum1\u001b[49m\u001b[43m,\u001b[49m\u001b[43m \u001b[49m\u001b[43mnum2\u001b[49m\u001b[43m)\u001b[49m\n\u001b[1;32m      9\u001b[0m \u001b[38;5;28mprint\u001b[39m(\u001b[38;5;124m\"\u001b[39m\u001b[38;5;124mThe result of the division is:\u001b[39m\u001b[38;5;124m\"\u001b[39m, result)\n",
      "Cell \u001b[0;32mIn[1], line 2\u001b[0m, in \u001b[0;36mdivide_numbers\u001b[0;34m(a, b)\u001b[0m\n\u001b[1;32m      1\u001b[0m \u001b[38;5;28;01mdef\u001b[39;00m \u001b[38;5;21mdivide_numbers\u001b[39m(a, b):\n\u001b[0;32m----> 2\u001b[0m     result \u001b[38;5;241m=\u001b[39m \u001b[43ma\u001b[49m\u001b[43m \u001b[49m\u001b[38;5;241;43m/\u001b[39;49m\u001b[43m \u001b[49m\u001b[43mb\u001b[49m\n\u001b[1;32m      3\u001b[0m     \u001b[38;5;28;01mreturn\u001b[39;00m result\n",
      "\u001b[0;31mZeroDivisionError\u001b[0m: float division by zero"
     ]
    }
   ],
   "source": [
    "def divide_numbers(a, b):\n",
    "    result = a / b\n",
    "    return result\n",
    "\n",
    "num1 = float(input(\"Enter the first number: \"))\n",
    "num2 = float(input(\"Enter the second number: \"))\n",
    "\n",
    "result = divide_numbers(num1, num2)\n",
    "print(\"The result of the division is:\", result)\n"
   ]
  },
  {
   "cell_type": "markdown",
   "id": "7aab2498-ca83-48b2-b539-33b2c58e4d4b",
   "metadata": {},
   "source": [
    "Q3. Which Python statements are used to catch and handle exceptions? Explain with an example"
   ]
  },
  {
   "cell_type": "markdown",
   "id": "abf79f78-397b-4ab4-acc0-77cbf9b5a994",
   "metadata": {},
   "source": [
    "In Python, the try and except statements are used together to catch and handle exceptions. The try block contains the code where an exception might occur, and the except block specifies the code to be executed when a specific exception is raised.\n",
    "\n",
    "Here's an example that demonstrates the usage of try and except statements:"
   ]
  },
  {
   "cell_type": "code",
   "execution_count": 2,
   "id": "804cc75a-6277-44a5-868f-61030bc3415a",
   "metadata": {},
   "outputs": [
    {
     "name": "stdin",
     "output_type": "stream",
     "text": [
      "Enter the first number:  10\n",
      "Enter the second number:  0\n"
     ]
    },
    {
     "name": "stdout",
     "output_type": "stream",
     "text": [
      "Error: Cannot divide by zero!\n"
     ]
    }
   ],
   "source": [
    "def divide_numbers(a, b):\n",
    "    try:\n",
    "        result = a / b\n",
    "        print(\"The result of the division is:\", result)\n",
    "    except ZeroDivisionError:\n",
    "        print(\"Error: Cannot divide by zero!\")\n",
    "\n",
    "# Prompting the user for input\n",
    "num1 = float(input(\"Enter the first number: \"))\n",
    "num2 = float(input(\"Enter the second number: \"))\n",
    "\n",
    "# Performing the division operation\n",
    "divide_numbers(num1, num2)\n"
   ]
  },
  {
   "cell_type": "markdown",
   "id": "13721ef4-e17a-4503-baf4-7ff7fdb859b2",
   "metadata": {},
   "source": [
    "Q4. Explain with an example:\n",
    "\n",
    " try and else\n",
    " \n",
    " finllay\n",
    " \n",
    " raise"
   ]
  },
  {
   "cell_type": "code",
   "execution_count": 3,
   "id": "6101acf8-2a61-450f-a2c5-2811e930f9c5",
   "metadata": {},
   "outputs": [
    {
     "name": "stdin",
     "output_type": "stream",
     "text": [
      "Enter the first number:  100\n",
      "Enter the second number:  1000\n"
     ]
    },
    {
     "name": "stdout",
     "output_type": "stream",
     "text": [
      "The result of the division is: 0.1\n",
      "Division operation completed.\n"
     ]
    },
    {
     "name": "stdin",
     "output_type": "stream",
     "text": [
      "Enter your age:  -19\n"
     ]
    },
    {
     "name": "stdout",
     "output_type": "stream",
     "text": [
      "ValueError occurred: Age cannot be negative.\n"
     ]
    }
   ],
   "source": [
    "def divide_numbers(a, b):\n",
    "    try:\n",
    "        result = a / b\n",
    "    except ZeroDivisionError:\n",
    "        print(\"Error: Cannot divide by zero!\")\n",
    "    else:\n",
    "        print(\"The result of the division is:\", result)\n",
    "    finally:\n",
    "        print(\"Division operation completed.\")\n",
    "\n",
    "def validate_age(age):\n",
    "    if age < 0:\n",
    "        raise ValueError(\"Age cannot be negative.\")\n",
    "    elif age > 120:\n",
    "        raise ValueError(\"Invalid age: \", age)\n",
    "\n",
    "# Example 1: Handling exceptions with try-else-finally\n",
    "num1 = float(input(\"Enter the first number: \"))\n",
    "num2 = float(input(\"Enter the second number: \"))\n",
    "\n",
    "divide_numbers(num1, num2)\n",
    "\n",
    "# Example 2: Raising an exception\n",
    "try:\n",
    "    user_age = int(input(\"Enter your age: \"))\n",
    "    validate_age(user_age)\n",
    "except ValueError as ve:\n",
    "    print(\"ValueError occurred:\", str(ve))\n"
   ]
  },
  {
   "cell_type": "markdown",
   "id": "6e56d8b1-3465-43e5-aab8-72d1c0a150cd",
   "metadata": {},
   "source": [
    "Handling exceptions with try, else, and finally:\n",
    "\n",
    "The divide_numbers function attempts to divide two numbers, a and b, within the try block.\n",
    "If a ZeroDivisionError occurs (i.e., if the user enters 0 as the second number), the code jumps to the except block and prints an error message.\n",
    "If the division operation succeeds without raising any exceptions, the code within the else block is executed, and the result is printed.\n",
    "Finally, the finally block is executed, regardless of whether an exception occurred or not, and it prints \"Division operation completed.\"\n",
    "Raising an exception with raise:\n",
    "\n",
    "The validate_age function checks whether the provided age is valid or not.\n",
    "If the age is negative or exceeds 120, a ValueError is raised with an appropriate error message.\n",
    "In the try block, the user is prompted to enter their age. If a ValueError is raised during the execution of validate_age, the code jumps to the except block.\n",
    "The except block catches the ValueError exception and prints the error message contained within the exception."
   ]
  },
  {
   "cell_type": "markdown",
   "id": "d36672dc-ae0c-43c4-9bd4-d3b3cf5d58ec",
   "metadata": {},
   "source": [
    "Q5. What are Custom Exceptions in python? Why do we need Custom Exceptions? Explain with an example"
   ]
  },
  {
   "cell_type": "markdown",
   "id": "377712cd-3871-49af-a56a-e88d698c0622",
   "metadata": {},
   "source": [
    "In Python, custom exceptions are user-defined exception classes that extend the base Exception class or any of its subclasses. By creating custom exceptions, you can define your own application-specific exception types to handle specific exceptional conditions in your code."
   ]
  },
  {
   "cell_type": "markdown",
   "id": "b519db13-1659-4009-a18f-2380dcf18d29",
   "metadata": {},
   "source": [
    "Improved code readability: Custom exceptions provide a way to make your code more readable and self-explanatory. By creating custom exception classes, you can give meaningful names to exceptions that accurately describe the exceptional conditions in your code. This makes it easier for other developers to understand the purpose of the exception and handle it appropriately.\n",
    "\n",
    "Granular exception handling: With custom exceptions, you can handle different exceptional scenarios differently. By defining multiple custom exception classes, you can catch and handle each exception separately, allowing for more specific error handling and providing appropriate feedback to users.\n",
    "\n",
    "Modularity and extensibility: Custom exceptions help in designing modular and extensible code. You can define a hierarchy of custom exceptions, where more specific exception classes inherit from more general ones. This allows for more flexibility in catching and handling exceptions at different levels of the code, making it easier to add new exception types or modify existing ones in the future."
   ]
  },
  {
   "cell_type": "markdown",
   "id": "47925d06-abfa-4f68-9753-a42cc80519cc",
   "metadata": {},
   "source": [
    "Q6. Create a custom exception ,class. Use this, class to handle an exception."
   ]
  },
  {
   "cell_type": "code",
   "execution_count": 4,
   "id": "f5510467-b40e-468a-8bfd-2d8645d026b7",
   "metadata": {},
   "outputs": [
    {
     "name": "stdin",
     "output_type": "stream",
     "text": [
      "Enter your email address:  sahilgmail.com\n"
     ]
    },
    {
     "name": "stdout",
     "output_type": "stream",
     "text": [
      "Invalid email exception: Invalid email address: sahilgmail.com\n"
     ]
    }
   ],
   "source": [
    "class InvalidEmailException(Exception):\n",
    "    def __init__(self, email):\n",
    "        self.email = email\n",
    "        super().__init__(f\"Invalid email address: {email}\")\n",
    "\n",
    "def validate_email(email):\n",
    "    if \"@\" not in email:\n",
    "        raise InvalidEmailException(email)\n",
    "\n",
    "# Example usage\n",
    "try:\n",
    "    user_email = input(\"Enter your email address: \")\n",
    "    validate_email(user_email)\n",
    "    print(\"Email validation successful.\")\n",
    "except InvalidEmailException as iee:\n",
    "    print(\"Invalid email exception:\", str(iee))\n"
   ]
  },
  {
   "cell_type": "code",
   "execution_count": null,
   "id": "14b002dd-5684-459c-924b-0d12ab689589",
   "metadata": {},
   "outputs": [],
   "source": []
  }
 ],
 "metadata": {
  "kernelspec": {
   "display_name": "Python 3 (ipykernel)",
   "language": "python",
   "name": "python3"
  },
  "language_info": {
   "codemirror_mode": {
    "name": "ipython",
    "version": 3
   },
   "file_extension": ".py",
   "mimetype": "text/x-python",
   "name": "python",
   "nbconvert_exporter": "python",
   "pygments_lexer": "ipython3",
   "version": "3.10.8"
  }
 },
 "nbformat": 4,
 "nbformat_minor": 5
}
